{
 "cells": [
  {
   "cell_type": "code",
   "execution_count": 35,
   "id": "799ef0ce-253b-4714-9ed7-5ee508ee2574",
   "metadata": {},
   "outputs": [
    {
     "name": "stdout",
     "output_type": "stream",
     "text": [
      "<class 'pandas.core.frame.DataFrame'>\n",
      "Index: 51267 entries, 0 to 51716\n",
      "Data columns (total 9 columns):\n",
      " #   Column           Non-Null Count  Dtype  \n",
      "---  ------           --------------  -----  \n",
      " 0   restaurant_name  51267 non-null  object \n",
      " 1   online_order     51267 non-null  object \n",
      " 2   book_table       51267 non-null  object \n",
      " 3   rating           51267 non-null  object \n",
      " 4   votes            51267 non-null  int64  \n",
      " 5   location         51267 non-null  object \n",
      " 6   cuisines         51267 non-null  object \n",
      " 7   cost_per_person  51267 non-null  float64\n",
      " 8   restaurant_type  51267 non-null  object \n",
      "dtypes: float64(1), int64(1), object(7)\n",
      "memory usage: 3.9+ MB\n"
     ]
    }
   ],
   "source": [
    "import pandas as pd\n",
    "import numpy as np\n",
    "def handlerate(value) :\n",
    "    if(value== 'NEW' or value=='-'):\n",
    "        return np.nan\n",
    "    else:\n",
    "        value = str(value).split('/')\n",
    "        value = value [0]\n",
    "        return float(value)\n",
    "\n",
    "df = pd.read_csv('zomato.csv')\n",
    "df.drop('url',axis=1,inplace=True)\n",
    "df.drop('address',axis=1,inplace=True)\n",
    "df.drop('reviews_list',axis=1,inplace=True)\n",
    "df.drop('phone',axis=1,inplace=True)\n",
    "df.drop_duplicates(inplace=True)\n",
    "df.drop('dish_liked', axis = 1 , inplace = True)\n",
    "df.drop(columns=['listed_in(city)','menu_item'] , axis = 1 , inplace = True)\n",
    "df.rename(columns={\"name\":\"restaurant_name\",\"rate\":\"rating\",\"approx_cost(for two people)\":\"cost_per_person\"}, inplace=True)\n",
    "df.drop('rest_type' , axis = 1 , inplace = True)\n",
    "df.rename(columns={\"listed_in(type)\":\"restaurant_type\"} , inplace = True)\n",
    "df.dropna(subset=['cuisines', 'cost_per_person'], inplace=True)\n",
    "df['rating'] = df['rating'].apply(handlerate)\n",
    "df['rating']=df['rating'].fillna(df['rating'].mean)\n",
    "df['cost_per_person']=df['cost_per_person'].str.replace(',', '').astype(int)\n",
    "df['cost_per_person']=df['cost_per_person']/2\n",
    "df.info()"
   ]
  },
  {
   "cell_type": "code",
   "execution_count": 36,
   "id": "e8c6e745-5135-4341-befc-4eb74c89bc21",
   "metadata": {},
   "outputs": [],
   "source": [
    "df['online_order'] = df['online_order'].astype(\"string\")\n",
    "df['book_table'] = df['book_table'].astype(\"string\")\n",
    "df['location'] = df['location'].astype(\"string\")\n",
    "df['cuisines'] = df['cuisines'].astype(\"string\")\n",
    "df['restaurant_type'] = df['restaurant_type'].astype(\"string\")\n",
    "df['restaurant_name'] = df['restaurant_name'].astype(\"string\")"
   ]
  },
  {
   "cell_type": "code",
   "execution_count": 37,
   "id": "c396c4fe-2ad1-4d44-87d7-9415d1b2428b",
   "metadata": {},
   "outputs": [
    {
     "name": "stdout",
     "output_type": "stream",
     "text": [
      "<class 'pandas.core.frame.DataFrame'>\n",
      "Index: 51267 entries, 0 to 51716\n",
      "Data columns (total 9 columns):\n",
      " #   Column           Non-Null Count  Dtype  \n",
      "---  ------           --------------  -----  \n",
      " 0   restaurant_name  51267 non-null  string \n",
      " 1   online_order     51267 non-null  string \n",
      " 2   book_table       51267 non-null  string \n",
      " 3   rating           51267 non-null  object \n",
      " 4   votes            51267 non-null  int64  \n",
      " 5   location         51267 non-null  string \n",
      " 6   cuisines         51267 non-null  string \n",
      " 7   cost_per_person  51267 non-null  float64\n",
      " 8   restaurant_type  51267 non-null  string \n",
      "dtypes: float64(1), int64(1), object(1), string(6)\n",
      "memory usage: 3.9+ MB\n"
     ]
    }
   ],
   "source": [
    "df.info()"
   ]
  },
  {
   "cell_type": "code",
   "execution_count": 41,
   "id": "486989ea-f0ee-4ebf-82ec-5888bab1c19a",
   "metadata": {},
   "outputs": [],
   "source": [
    "df.to_csv('zomato_clean_data.csv' , index = False)"
   ]
  },
  {
   "cell_type": "code",
   "execution_count": null,
   "id": "253d8159-ee58-4622-bb61-8d5e45f2beb5",
   "metadata": {},
   "outputs": [],
   "source": []
  }
 ],
 "metadata": {
  "kernelspec": {
   "display_name": "Python [conda env:base] *",
   "language": "python",
   "name": "conda-base-py"
  },
  "language_info": {
   "codemirror_mode": {
    "name": "ipython",
    "version": 3
   },
   "file_extension": ".py",
   "mimetype": "text/x-python",
   "name": "python",
   "nbconvert_exporter": "python",
   "pygments_lexer": "ipython3",
   "version": "3.12.7"
  }
 },
 "nbformat": 4,
 "nbformat_minor": 5
}
